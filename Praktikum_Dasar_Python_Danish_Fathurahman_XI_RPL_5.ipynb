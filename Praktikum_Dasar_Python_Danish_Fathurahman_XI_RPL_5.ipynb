{
  "nbformat": 4,
  "nbformat_minor": 0,
  "metadata": {
    "colab": {
      "provenance": [],
      "authorship_tag": "ABX9TyP+ODntoRpjEmk/P6svWGQ2",
      "include_colab_link": true
    },
    "kernelspec": {
      "name": "python3",
      "display_name": "Python 3"
    },
    "language_info": {
      "name": "python"
    }
  },
  "cells": [
    {
      "cell_type": "markdown",
      "metadata": {
        "id": "view-in-github",
        "colab_type": "text"
      },
      "source": [
        "<a href=\"https://colab.research.google.com/github/Danish8409/Praktikum-Dasar-Python_Danish-Fathurahman_XI-RPL-5/blob/main/Praktikum_Dasar_Python_Danish_Fathurahman_XI_RPL_5.ipynb\" target=\"_parent\"><img src=\"https://colab.research.google.com/assets/colab-badge.svg\" alt=\"Open In Colab\"/></a>"
      ]
    },
    {
      "cell_type": "code",
      "execution_count": null,
      "metadata": {
        "colab": {
          "base_uri": "https://localhost:8080/"
        },
        "id": "FFlz9jGLL0vT",
        "outputId": "39061594-6d59-45d3-ff82-23fce154b845"
      },
      "outputs": [
        {
          "output_type": "execute_result",
          "data": {
            "text/plain": [
              "str"
            ]
          },
          "metadata": {},
          "execution_count": 2
        }
      ],
      "source": [
        "nama=\"Danish\"\n",
        "type(nama)"
      ]
    },
    {
      "cell_type": "code",
      "source": [
        "a=3\n",
        "type(a)"
      ],
      "metadata": {
        "colab": {
          "base_uri": "https://localhost:8080/"
        },
        "id": "_cro3oMQMFCX",
        "outputId": "0fb702fa-3050-4082-9ca8-86e976f81d3f"
      },
      "execution_count": null,
      "outputs": [
        {
          "output_type": "execute_result",
          "data": {
            "text/plain": [
              "int"
            ]
          },
          "metadata": {},
          "execution_count": 3
        }
      ]
    },
    {
      "cell_type": "code",
      "source": [
        "huruf=['a','b','c']\n",
        "type(huruf)\n",
        "huruf[2]"
      ],
      "metadata": {
        "colab": {
          "base_uri": "https://localhost:8080/",
          "height": 35
        },
        "id": "dC-a3nGPM2P9",
        "outputId": "92911c51-3ea8-49e3-c893-6cf8e7124cbe"
      },
      "execution_count": null,
      "outputs": [
        {
          "output_type": "execute_result",
          "data": {
            "text/plain": [
              "'c'"
            ],
            "application/vnd.google.colaboratory.intrinsic+json": {
              "type": "string"
            }
          },
          "metadata": {},
          "execution_count": 8
        }
      ]
    },
    {
      "cell_type": "code",
      "source": [
        "#daftarhargabuah\n",
        "daftarharga={'apel':7000,'mangga':8000,'jeruk':5000}\n",
        "type(daftarharga)\n",
        "daftarharga['mangga']\n",
        "#"
      ],
      "metadata": {
        "colab": {
          "base_uri": "https://localhost:8080/"
        },
        "id": "Q_JayId6OEhC",
        "outputId": "716cb134-8f1f-47bd-c2c5-b8cb89f5cd94"
      },
      "execution_count": null,
      "outputs": [
        {
          "output_type": "execute_result",
          "data": {
            "text/plain": [
              "8000"
            ]
          },
          "metadata": {},
          "execution_count": 9
        }
      ]
    },
    {
      "cell_type": "code",
      "source": [
        "print(daftarharga.keys())\n",
        "print(daftarharga.values())\n",
        "print(\"Nama pembeli = Adli\")"
      ],
      "metadata": {
        "colab": {
          "base_uri": "https://localhost:8080/"
        },
        "id": "6wPjn4HOPyla",
        "outputId": "53f58eec-264f-431e-986c-22d88951db74"
      },
      "execution_count": null,
      "outputs": [
        {
          "output_type": "stream",
          "name": "stdout",
          "text": [
            "dict_keys(['apel', 'mangga', 'jeruk'])\n",
            "dict_values([7000, 8000, 5000])\n",
            "Nama pembeli = Adli\n"
          ]
        }
      ]
    },
    {
      "cell_type": "code",
      "source": [
        "def luas_keliling(panjang, lebar):\n",
        "  luas = panjang * lebar\n",
        "  keliling = 2 * (panjang + lebar)\n",
        "\n",
        "  print('Luas persegi panjang', luas)\n",
        "  print('Keliling persegi panjang', keliling)\n",
        "\n",
        "  return luas, keliling"
      ],
      "metadata": {
        "id": "6NxYIdCnRZkJ"
      },
      "execution_count": 3,
      "outputs": []
    },
    {
      "cell_type": "code",
      "source": [
        "jwb_luas, jwb_keliling = luas_keliling(9, 5)"
      ],
      "metadata": {
        "id": "CcLJ-px8R9P_",
        "outputId": "17edaf7c-4a86-4558-d593-03adffeb108c",
        "colab": {
          "base_uri": "https://localhost:8080/"
        }
      },
      "execution_count": 5,
      "outputs": [
        {
          "output_type": "stream",
          "name": "stdout",
          "text": [
            "Luas persegi panjang 45\n",
            "Keliling persegi panjang 28\n"
          ]
        }
      ]
    },
    {
      "cell_type": "code",
      "source": [
        "print(jwb_luas)"
      ],
      "metadata": {
        "colab": {
          "base_uri": "https://localhost:8080/"
        },
        "id": "6-DFZvKZS4qz",
        "outputId": "aa85c907-a88e-4bb0-9edb-cc56a606f559"
      },
      "execution_count": 6,
      "outputs": [
        {
          "output_type": "stream",
          "name": "stdout",
          "text": [
            "45\n"
          ]
        }
      ]
    },
    {
      "cell_type": "code",
      "source": [
        "def luas_keliling(panjang, lebar):\n",
        "\n",
        "if panjang < lebar:\n",
        "  lebar, panjang = panjang, lebar\n",
        "  print"
      ],
      "metadata": {
        "id": "YHhQ5J-lTcM6"
      },
      "execution_count": null,
      "outputs": []
    }
  ]
}