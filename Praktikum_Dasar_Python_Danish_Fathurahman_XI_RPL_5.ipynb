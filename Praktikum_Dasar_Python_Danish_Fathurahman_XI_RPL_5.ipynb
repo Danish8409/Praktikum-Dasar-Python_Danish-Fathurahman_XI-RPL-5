{
  "nbformat": 4,
  "nbformat_minor": 0,
  "metadata": {
    "colab": {
      "provenance": [],
      "authorship_tag": "ABX9TyMg7vSGR5KmQE4GgZOoopzr",
      "include_colab_link": true
    },
    "kernelspec": {
      "name": "python3",
      "display_name": "Python 3"
    },
    "language_info": {
      "name": "python"
    }
  },
  "cells": [
    {
      "cell_type": "markdown",
      "metadata": {
        "id": "view-in-github",
        "colab_type": "text"
      },
      "source": [
        "<a href=\"https://colab.research.google.com/github/Danish8409/Praktikum-Dasar-Python_Danish-Fathurahman_XI-RPL-5/blob/main/Praktikum_Dasar_Python_Danish_Fathurahman_XI_RPL_5.ipynb\" target=\"_parent\"><img src=\"https://colab.research.google.com/assets/colab-badge.svg\" alt=\"Open In Colab\"/></a>"
      ]
    },
    {
      "cell_type": "code",
      "execution_count": null,
      "metadata": {
        "colab": {
          "base_uri": "https://localhost:8080/"
        },
        "id": "FFlz9jGLL0vT",
        "outputId": "39061594-6d59-45d3-ff82-23fce154b845"
      },
      "outputs": [
        {
          "output_type": "execute_result",
          "data": {
            "text/plain": [
              "str"
            ]
          },
          "metadata": {},
          "execution_count": 2
        }
      ],
      "source": [
        "nama=\"Danish\"\n",
        "type(nama)"
      ]
    },
    {
      "cell_type": "code",
      "source": [
        "a=3\n",
        "type(a)"
      ],
      "metadata": {
        "colab": {
          "base_uri": "https://localhost:8080/"
        },
        "id": "_cro3oMQMFCX",
        "outputId": "0fb702fa-3050-4082-9ca8-86e976f81d3f"
      },
      "execution_count": null,
      "outputs": [
        {
          "output_type": "execute_result",
          "data": {
            "text/plain": [
              "int"
            ]
          },
          "metadata": {},
          "execution_count": 3
        }
      ]
    },
    {
      "cell_type": "code",
      "source": [
        "huruf=['a','b','c']\n",
        "type(huruf)\n",
        "huruf[2]"
      ],
      "metadata": {
        "colab": {
          "base_uri": "https://localhost:8080/",
          "height": 35
        },
        "id": "dC-a3nGPM2P9",
        "outputId": "92911c51-3ea8-49e3-c893-6cf8e7124cbe"
      },
      "execution_count": null,
      "outputs": [
        {
          "output_type": "execute_result",
          "data": {
            "text/plain": [
              "'c'"
            ],
            "application/vnd.google.colaboratory.intrinsic+json": {
              "type": "string"
            }
          },
          "metadata": {},
          "execution_count": 8
        }
      ]
    },
    {
      "cell_type": "code",
      "source": [
        "#daftarhargabuah\n",
        "daftarharga={'apel':7000,'mangga':8000,'jeruk':5000}\n",
        "type(daftarharga)\n",
        "daftarharga['mangga']\n",
        "#"
      ],
      "metadata": {
        "colab": {
          "base_uri": "https://localhost:8080/"
        },
        "id": "Q_JayId6OEhC",
        "outputId": "716cb134-8f1f-47bd-c2c5-b8cb89f5cd94"
      },
      "execution_count": null,
      "outputs": [
        {
          "output_type": "execute_result",
          "data": {
            "text/plain": [
              "8000"
            ]
          },
          "metadata": {},
          "execution_count": 9
        }
      ]
    },
    {
      "cell_type": "code",
      "source": [
        "print(daftarharga.keys())\n",
        "print(daftarharga.values())\n",
        "print(\"Nama pembeli = Adli\")"
      ],
      "metadata": {
        "colab": {
          "base_uri": "https://localhost:8080/"
        },
        "id": "6wPjn4HOPyla",
        "outputId": "53f58eec-264f-431e-986c-22d88951db74"
      },
      "execution_count": null,
      "outputs": [
        {
          "output_type": "stream",
          "name": "stdout",
          "text": [
            "dict_keys(['apel', 'mangga', 'jeruk'])\n",
            "dict_values([7000, 8000, 5000])\n",
            "Nama pembeli = Adli\n"
          ]
        }
      ]
    },
    {
      "cell_type": "code",
      "source": [
        "def luas_keliling(panjang, lebar):\n",
        "  luas = panjang * lebar\n",
        "  keliling = 2 * (panjang + lebar)\n",
        "\n",
        "  print('Luas persegi panjang', luas)\n",
        "  print('Keliling persegi panjang', keliling)\n",
        "\n",
        "  return luas, keliling"
      ],
      "metadata": {
        "id": "6NxYIdCnRZkJ"
      },
      "execution_count": null,
      "outputs": []
    },
    {
      "cell_type": "code",
      "source": [
        "jwb_luas, jwb_keliling = luas_keliling(9, 5)"
      ],
      "metadata": {
        "id": "CcLJ-px8R9P_",
        "outputId": "17edaf7c-4a86-4558-d593-03adffeb108c",
        "colab": {
          "base_uri": "https://localhost:8080/"
        }
      },
      "execution_count": null,
      "outputs": [
        {
          "output_type": "stream",
          "name": "stdout",
          "text": [
            "Luas persegi panjang 45\n",
            "Keliling persegi panjang 28\n"
          ]
        }
      ]
    },
    {
      "cell_type": "code",
      "source": [
        "print(jwb_luas)"
      ],
      "metadata": {
        "colab": {
          "base_uri": "https://localhost:8080/"
        },
        "id": "6-DFZvKZS4qz",
        "outputId": "aa85c907-a88e-4bb0-9edb-cc56a606f559"
      },
      "execution_count": null,
      "outputs": [
        {
          "output_type": "stream",
          "name": "stdout",
          "text": [
            "45\n"
          ]
        }
      ]
    },
    {
      "cell_type": "code",
      "source": [
        "def luas_keliling(panjang, lebar):\n",
        "  \"\"\"\n",
        "  Menghitung luas dan keliling persegi panjang.\n",
        "\n",
        "  Args:\n",
        "    panjang: Panjang persegi panjang.\n",
        "    lebar: Lebar persegi panjang.\n",
        "\n",
        "  Returns:\n",
        "    Tuple berisi luas dan keliling persegi panjang.\n",
        "  \"\"\"\n",
        "  luas = panjang * lebar\n",
        "  keliling = 2 * (panjang + lebar)\n",
        "  return luas, keliling\n",
        "\n",
        "# Contoh penggunaan fungsi\n",
        "panjang_persegi = 10\n",
        "lebar_persegi = 5\n",
        "luas, keliling = luas_keliling(panjang_persegi, lebar_persegi)\n",
        "\n",
        "print(f\"Luas persegi panjang: {luas}\")\n",
        "print(f\"Keliling persegi panjang: {keliling}\")"
      ],
      "metadata": {
        "id": "YHhQ5J-lTcM6"
      },
      "execution_count": null,
      "outputs": []
    },
    {
      "cell_type": "code",
      "source": [
        "list_contoh = [1,2,3,4,5,6]"
      ],
      "metadata": {
        "colab": {
          "base_uri": "https://localhost:8080/"
        },
        "id": "qUl24lNxVgpa",
        "outputId": "61578fd3-3663-4e48-ed10-d0c05de7cb03"
      },
      "execution_count": null,
      "outputs": [
        {
          "output_type": "stream",
          "name": "stdout",
          "text": [
            "Luas persegi panjang 90\n",
            "Keliling persegi panjang 38\n"
          ]
        },
        {
          "output_type": "execute_result",
          "data": {
            "text/plain": [
              "(90, 38)"
            ]
          },
          "metadata": {},
          "execution_count": 8
        }
      ]
    },
    {
      "cell_type": "code",
      "source": [
        "list_contoh.append(8)"
      ],
      "metadata": {
        "id": "LNcAmNNHV1Am"
      },
      "execution_count": null,
      "outputs": []
    },
    {
      "cell_type": "code",
      "source": [
        "list_contoh"
      ],
      "metadata": {
        "colab": {
          "base_uri": "https://localhost:8080/",
          "height": 141
        },
        "id": "pzfsPjCjV5EZ",
        "outputId": "350d111c-a7ce-4b7c-ab30-aa59f386de11"
      },
      "execution_count": null,
      "outputs": [
        {
          "output_type": "error",
          "ename": "NameError",
          "evalue": "name 'list_contoh' is not defined",
          "traceback": [
            "\u001b[0;31m---------------------------------------------------------------------------\u001b[0m",
            "\u001b[0;31mNameError\u001b[0m                                 Traceback (most recent call last)",
            "\u001b[0;32m/tmp/ipython-input-4099889024.py\u001b[0m in \u001b[0;36m<cell line: 0>\u001b[0;34m()\u001b[0m\n\u001b[0;32m----> 1\u001b[0;31m \u001b[0mlist_contoh\u001b[0m\u001b[0;34m\u001b[0m\u001b[0;34m\u001b[0m\u001b[0m\n\u001b[0m",
            "\u001b[0;31mNameError\u001b[0m: name 'list_contoh' is not defined"
          ]
        }
      ]
    },
    {
      "cell_type": "code",
      "source": [
        "new_set = {1,2,3,4,5}"
      ],
      "metadata": {
        "id": "l3RaE6mZYW69"
      },
      "execution_count": null,
      "outputs": []
    },
    {
      "cell_type": "code",
      "source": [
        "new_set.add(6)\n",
        "new_set"
      ],
      "metadata": {
        "colab": {
          "base_uri": "https://localhost:8080/",
          "height": 159
        },
        "id": "6rHCliHPYXcP",
        "outputId": "0edcad30-a737-4487-faed-c349f04b8d40"
      },
      "execution_count": null,
      "outputs": [
        {
          "output_type": "error",
          "ename": "NameError",
          "evalue": "name 'new_set' is not defined",
          "traceback": [
            "\u001b[0;31m---------------------------------------------------------------------------\u001b[0m",
            "\u001b[0;31mNameError\u001b[0m                                 Traceback (most recent call last)",
            "\u001b[0;32m/tmp/ipython-input-2830105766.py\u001b[0m in \u001b[0;36m<cell line: 0>\u001b[0;34m()\u001b[0m\n\u001b[0;32m----> 1\u001b[0;31m \u001b[0mnew_set\u001b[0m\u001b[0;34m.\u001b[0m\u001b[0madd\u001b[0m\u001b[0;34m(\u001b[0m\u001b[0;36m6\u001b[0m\u001b[0;34m)\u001b[0m\u001b[0;34m\u001b[0m\u001b[0;34m\u001b[0m\u001b[0m\n\u001b[0m\u001b[1;32m      2\u001b[0m \u001b[0mnew_set\u001b[0m\u001b[0;34m\u001b[0m\u001b[0;34m\u001b[0m\u001b[0m\n",
            "\u001b[0;31mNameError\u001b[0m: name 'new_set' is not defined"
          ]
        }
      ]
    },
    {
      "cell_type": "markdown",
      "source": [
        "LATIHAN SOAL"
      ],
      "metadata": {
        "id": "A5_xHfosbBi6"
      }
    },
    {
      "cell_type": "code",
      "source": [
        "# Soal nomer 1\n",
        "# a. Buat 3 variabel bertipe data: int, float, str, dan list.\n",
        "variabel_int = 10\n",
        "variabel_float = 3.14\n",
        "variabel_str = \"Hello\"\n",
        "variabel_list = [1, 2, 3, 4]\n",
        "\n",
        "# b. Tampilkan tipe datanya dengan fungsi type().\n",
        "print(f\"Tipe data variabel_int: {type(variabel_int)}\")\n",
        "print(f\"Tipe data variabel_float: {type(variabel_float)}\")\n",
        "print(f\"Tipe data variabel_str: {type(variabel_str)}\")\n",
        "print(f\"Tipe data variabel_list: {type(variabel_list)}\")"
      ],
      "metadata": {
        "colab": {
          "base_uri": "https://localhost:8080/"
        },
        "id": "3Rsso9TCYziF",
        "outputId": "d9631ea2-642c-499e-a354-aa2e63201301"
      },
      "execution_count": null,
      "outputs": [
        {
          "output_type": "stream",
          "name": "stdout",
          "text": [
            "Tipe data variabel_int: <class 'int'>\n",
            "Tipe data variabel_float: <class 'float'>\n",
            "Tipe data variabel_str: <class 'str'>\n",
            "Tipe data variabel_list: <class 'list'>\n"
          ]
        }
      ]
    },
    {
      "cell_type": "code",
      "source": [
        "# Soal nomer 2\n",
        "# a. buat list belanja (beras, minyak dan telur)\n",
        "belanja = [\"beras\", \"minyak\", \"telur\"]\n",
        "\n",
        "# b. kemudian tambahkan item gula dan kopi menggunakan fungsi.\n",
        "belanja.append(\"gula\")\n",
        "belanja.append(\"kopi\")\n",
        "\n",
        "# c. tampilkan semua item dengan perulangan\n",
        "print(\"Daftar Belanja:\")\n",
        "for item in belanja:\n",
        "  print(item)"
      ],
      "metadata": {
        "colab": {
          "base_uri": "https://localhost:8080/"
        },
        "id": "UBFulNu7ZRi6",
        "outputId": "29cfc3dd-1a72-45a7-e466-f4f55b16c395"
      },
      "execution_count": null,
      "outputs": [
        {
          "output_type": "stream",
          "name": "stdout",
          "text": [
            "Daftar Belanja:\n",
            "beras\n",
            "minyak\n",
            "telur\n",
            "gula\n",
            "kopi\n"
          ]
        }
      ]
    },
    {
      "cell_type": "code",
      "source": [
        "# Soal nomer 3\n",
        "# a. buat dictionary harga belanjaan:\n",
        "harga_belanjaan = {\n",
        "    \"beras\": 12000,\n",
        "    \"minyak\": 17000,\n",
        "    \"telur\": 24000,\n",
        "    \"gula\": 15000,\n",
        "    \"kopi\": 20000\n",
        "}\n",
        "\n",
        "# b. hitung dan tampilkan total harga semua belanjaan\n",
        "total_harga = sum(harga_belanjaan.values())\n",
        "print(f\"Total harga belanjaan: {total_harga}\")"
      ],
      "metadata": {
        "colab": {
          "base_uri": "https://localhost:8080/"
        },
        "id": "6AjwW4AbZkw7",
        "outputId": "ad6fbe7a-23f8-4aff-b941-21f5225cc101"
      },
      "execution_count": null,
      "outputs": [
        {
          "output_type": "stream",
          "name": "stdout",
          "text": [
            "Total harga belanjaan: 88000\n"
          ]
        }
      ]
    },
    {
      "cell_type": "code",
      "source": [
        "# Soal nomer 4\n",
        "# Buat fungsi untuk menghitung luas persegi panjang yang mengembalikan nilai luas dan keliling dari persegi panjang\n",
        "def luas_keliling_persegi_panjang(panjang, lebar):\n",
        "  \"\"\"\n",
        "  Menghitung luas dan keliling persegi panjang.\n",
        "\n",
        "  Args:\n",
        "    panjang: Panjang persegi panjang.\n",
        "    lebar: Lebar persegi panjang.\n",
        "\n",
        "  Returns:\n",
        "    Tuple berisi luas dan keliling persegi panjang.\n",
        "  \"\"\"\n",
        "  luas = panjang * lebar\n",
        "  keliling = 2 * (panjang + lebar)\n",
        "  return luas, keliling"
      ],
      "metadata": {
        "id": "czH1seWzZzuZ"
      },
      "execution_count": null,
      "outputs": []
    },
    {
      "cell_type": "code",
      "source": [
        "# Soal nomer 5\n",
        "# a. minta pengguna memasukkan usia\n",
        "usia = int(input(\"Masukkan usia Anda: \"))\n",
        "\n",
        "# tampilkan kategori usia\n",
        "if 0 <= usia <= 13:\n",
        "  print(\"anak\")\n",
        "elif 14 <= usia <= 24:\n",
        "  print(\"remaja\")\n",
        "elif 25 <= usia <= 49:\n",
        "  print(\"dewasa\")\n",
        "else:\n",
        "  print(\"lansia\")"
      ],
      "metadata": {
        "id": "79FTkcgiafp8"
      },
      "execution_count": null,
      "outputs": []
    }
  ]
}