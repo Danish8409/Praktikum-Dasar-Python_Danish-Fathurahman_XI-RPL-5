{
  "nbformat": 4,
  "nbformat_minor": 0,
  "metadata": {
    "colab": {
      "provenance": [],
      "authorship_tag": "ABX9TyOu52+iHOw+fVZZXWfImpnV",
      "include_colab_link": true
    },
    "kernelspec": {
      "name": "python3",
      "display_name": "Python 3"
    },
    "language_info": {
      "name": "python"
    }
  },
  "cells": [
    {
      "cell_type": "markdown",
      "metadata": {
        "id": "view-in-github",
        "colab_type": "text"
      },
      "source": [
        "<a href=\"https://colab.research.google.com/github/Danish8409/Praktikum-Dasar-Python_Danish-Fathurahman_XI-RPL-5/blob/main/Praktikum_Dasar_Python_Danish_Fathurahman_XI_RPL_5.ipynb\" target=\"_parent\"><img src=\"https://colab.research.google.com/assets/colab-badge.svg\" alt=\"Open In Colab\"/></a>"
      ]
    },
    {
      "cell_type": "code",
      "execution_count": null,
      "metadata": {
        "colab": {
          "base_uri": "https://localhost:8080/"
        },
        "id": "FFlz9jGLL0vT",
        "outputId": "39061594-6d59-45d3-ff82-23fce154b845"
      },
      "outputs": [
        {
          "output_type": "execute_result",
          "data": {
            "text/plain": [
              "str"
            ]
          },
          "metadata": {},
          "execution_count": 2
        }
      ],
      "source": [
        "nama=\"Danish\"\n",
        "type(nama)"
      ]
    },
    {
      "cell_type": "code",
      "source": [
        "a=3\n",
        "type(a)"
      ],
      "metadata": {
        "colab": {
          "base_uri": "https://localhost:8080/"
        },
        "id": "_cro3oMQMFCX",
        "outputId": "0fb702fa-3050-4082-9ca8-86e976f81d3f"
      },
      "execution_count": null,
      "outputs": [
        {
          "output_type": "execute_result",
          "data": {
            "text/plain": [
              "int"
            ]
          },
          "metadata": {},
          "execution_count": 3
        }
      ]
    },
    {
      "cell_type": "code",
      "source": [
        "huruf=['a','b','c']\n",
        "type(huruf)\n",
        "huruf[2]"
      ],
      "metadata": {
        "colab": {
          "base_uri": "https://localhost:8080/",
          "height": 35
        },
        "id": "dC-a3nGPM2P9",
        "outputId": "92911c51-3ea8-49e3-c893-6cf8e7124cbe"
      },
      "execution_count": null,
      "outputs": [
        {
          "output_type": "execute_result",
          "data": {
            "text/plain": [
              "'c'"
            ],
            "application/vnd.google.colaboratory.intrinsic+json": {
              "type": "string"
            }
          },
          "metadata": {},
          "execution_count": 8
        }
      ]
    },
    {
      "cell_type": "code",
      "source": [
        "#daftarhargabuah\n",
        "daftarharga={'apel':7000,'mangga':8000,'jeruk':5000}\n",
        "type(daftarharga)\n",
        "daftarharga['mangga']\n",
        "#"
      ],
      "metadata": {
        "colab": {
          "base_uri": "https://localhost:8080/"
        },
        "id": "Q_JayId6OEhC",
        "outputId": "716cb134-8f1f-47bd-c2c5-b8cb89f5cd94"
      },
      "execution_count": null,
      "outputs": [
        {
          "output_type": "execute_result",
          "data": {
            "text/plain": [
              "8000"
            ]
          },
          "metadata": {},
          "execution_count": 9
        }
      ]
    },
    {
      "cell_type": "code",
      "source": [
        "print(daftarharga.keys())\n",
        "print(daftarharga.values())\n",
        "print(\"Nama pembeli = Adli\")"
      ],
      "metadata": {
        "colab": {
          "base_uri": "https://localhost:8080/"
        },
        "id": "6wPjn4HOPyla",
        "outputId": "53f58eec-264f-431e-986c-22d88951db74"
      },
      "execution_count": null,
      "outputs": [
        {
          "output_type": "stream",
          "name": "stdout",
          "text": [
            "dict_keys(['apel', 'mangga', 'jeruk'])\n",
            "dict_values([7000, 8000, 5000])\n",
            "Nama pembeli = Adli\n"
          ]
        }
      ]
    },
    {
      "cell_type": "code",
      "source": [
        "def luas_keliling(panjang, lebar):\n",
        "  luas = panjang * lebar\n",
        "  keliling = 2 * (panjang + lebar)\n",
        "\n",
        "  print('Luas persegi panjang', luas)\n",
        "  print('Keliling persegi panjang', keliling)\n",
        "\n",
        "  return luas, keliling"
      ],
      "metadata": {
        "id": "6NxYIdCnRZkJ"
      },
      "execution_count": null,
      "outputs": []
    },
    {
      "cell_type": "code",
      "source": [
        "jwb_luas, jwb_keliling = luas_keliling(9, 5)"
      ],
      "metadata": {
        "id": "CcLJ-px8R9P_",
        "outputId": "17edaf7c-4a86-4558-d593-03adffeb108c",
        "colab": {
          "base_uri": "https://localhost:8080/"
        }
      },
      "execution_count": null,
      "outputs": [
        {
          "output_type": "stream",
          "name": "stdout",
          "text": [
            "Luas persegi panjang 45\n",
            "Keliling persegi panjang 28\n"
          ]
        }
      ]
    },
    {
      "cell_type": "code",
      "source": [
        "print(jwb_luas)"
      ],
      "metadata": {
        "colab": {
          "base_uri": "https://localhost:8080/"
        },
        "id": "6-DFZvKZS4qz",
        "outputId": "aa85c907-a88e-4bb0-9edb-cc56a606f559"
      },
      "execution_count": null,
      "outputs": [
        {
          "output_type": "stream",
          "name": "stdout",
          "text": [
            "45\n"
          ]
        }
      ]
    },
    {
      "cell_type": "code",
      "source": [
        "def luas_keliling(panjang, lebar):\n",
        "  \"\"\"\n",
        "  Menghitung luas dan keliling persegi panjang.\n",
        "\n",
        "  Args:\n",
        "    panjang: Panjang persegi panjang.\n",
        "    lebar: Lebar persegi panjang.\n",
        "\n",
        "  Returns:\n",
        "    Tuple berisi luas dan keliling persegi panjang.\n",
        "  \"\"\"\n",
        "  luas = panjang * lebar\n",
        "  keliling = 2 * (panjang + lebar)\n",
        "  return luas, keliling\n",
        "\n",
        "# Contoh penggunaan fungsi\n",
        "panjang_persegi = 10\n",
        "lebar_persegi = 5\n",
        "luas, keliling = luas_keliling(panjang_persegi, lebar_persegi)\n",
        "\n",
        "print(f\"Luas persegi panjang: {luas}\")\n",
        "print(f\"Keliling persegi panjang: {keliling}\")"
      ],
      "metadata": {
        "id": "YHhQ5J-lTcM6"
      },
      "execution_count": null,
      "outputs": []
    },
    {
      "cell_type": "code",
      "source": [
        "list_contoh = [1,2,3,4,5,6]"
      ],
      "metadata": {
        "colab": {
          "base_uri": "https://localhost:8080/"
        },
        "id": "qUl24lNxVgpa",
        "outputId": "61578fd3-3663-4e48-ed10-d0c05de7cb03"
      },
      "execution_count": null,
      "outputs": [
        {
          "output_type": "stream",
          "name": "stdout",
          "text": [
            "Luas persegi panjang 90\n",
            "Keliling persegi panjang 38\n"
          ]
        },
        {
          "output_type": "execute_result",
          "data": {
            "text/plain": [
              "(90, 38)"
            ]
          },
          "metadata": {},
          "execution_count": 8
        }
      ]
    },
    {
      "cell_type": "code",
      "source": [
        "list_contoh.append(8)"
      ],
      "metadata": {
        "id": "LNcAmNNHV1Am"
      },
      "execution_count": null,
      "outputs": []
    },
    {
      "cell_type": "code",
      "source": [
        "list_contoh"
      ],
      "metadata": {
        "colab": {
          "base_uri": "https://localhost:8080/",
          "height": 141
        },
        "id": "pzfsPjCjV5EZ",
        "outputId": "350d111c-a7ce-4b7c-ab30-aa59f386de11"
      },
      "execution_count": null,
      "outputs": [
        {
          "output_type": "error",
          "ename": "NameError",
          "evalue": "name 'list_contoh' is not defined",
          "traceback": [
            "\u001b[0;31m---------------------------------------------------------------------------\u001b[0m",
            "\u001b[0;31mNameError\u001b[0m                                 Traceback (most recent call last)",
            "\u001b[0;32m/tmp/ipython-input-4099889024.py\u001b[0m in \u001b[0;36m<cell line: 0>\u001b[0;34m()\u001b[0m\n\u001b[0;32m----> 1\u001b[0;31m \u001b[0mlist_contoh\u001b[0m\u001b[0;34m\u001b[0m\u001b[0;34m\u001b[0m\u001b[0m\n\u001b[0m",
            "\u001b[0;31mNameError\u001b[0m: name 'list_contoh' is not defined"
          ]
        }
      ]
    },
    {
      "cell_type": "code",
      "source": [
        "new_set = {1,2,3,4,5}"
      ],
      "metadata": {
        "id": "l3RaE6mZYW69"
      },
      "execution_count": null,
      "outputs": []
    },
    {
      "cell_type": "code",
      "source": [
        "new_set.add(6)\n",
        "new_set"
      ],
      "metadata": {
        "colab": {
          "base_uri": "https://localhost:8080/",
          "height": 159
        },
        "id": "6rHCliHPYXcP",
        "outputId": "0edcad30-a737-4487-faed-c349f04b8d40"
      },
      "execution_count": null,
      "outputs": [
        {
          "output_type": "error",
          "ename": "NameError",
          "evalue": "name 'new_set' is not defined",
          "traceback": [
            "\u001b[0;31m---------------------------------------------------------------------------\u001b[0m",
            "\u001b[0;31mNameError\u001b[0m                                 Traceback (most recent call last)",
            "\u001b[0;32m/tmp/ipython-input-2830105766.py\u001b[0m in \u001b[0;36m<cell line: 0>\u001b[0;34m()\u001b[0m\n\u001b[0;32m----> 1\u001b[0;31m \u001b[0mnew_set\u001b[0m\u001b[0;34m.\u001b[0m\u001b[0madd\u001b[0m\u001b[0;34m(\u001b[0m\u001b[0;36m6\u001b[0m\u001b[0;34m)\u001b[0m\u001b[0;34m\u001b[0m\u001b[0;34m\u001b[0m\u001b[0m\n\u001b[0m\u001b[1;32m      2\u001b[0m \u001b[0mnew_set\u001b[0m\u001b[0;34m\u001b[0m\u001b[0;34m\u001b[0m\u001b[0m\n",
            "\u001b[0;31mNameError\u001b[0m: name 'new_set' is not defined"
          ]
        }
      ]
    },
    {
      "cell_type": "markdown",
      "source": [
        "![cooltext491404718858633.png](data:image/png;base64,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)"
      ],
      "metadata": {
        "id": "A5_xHfosbBi6"
      }
    },
    {
      "cell_type": "code",
      "source": [
        "# Soal nomer 1\n",
        "# a. Buat 3 variabel bertipe data: int, float, str, dan list.\n",
        "variabel_int = 10\n",
        "variabel_float = 3.14\n",
        "variabel_str = \"Hello\"\n",
        "variabel_list = [1, 2, 3, 4]\n",
        "\n",
        "# b. Tampilkan tipe datanya dengan fungsi type().\n",
        "print(f\"Tipe data variabel_int: {type(variabel_int)}\")\n",
        "print(f\"Tipe data variabel_float: {type(variabel_float)}\")\n",
        "print(f\"Tipe data variabel_str: {type(variabel_str)}\")\n",
        "print(f\"Tipe data variabel_list: {type(variabel_list)}\")"
      ],
      "metadata": {
        "colab": {
          "base_uri": "https://localhost:8080/"
        },
        "id": "3Rsso9TCYziF",
        "outputId": "6ead4ebe-2058-43d9-d3c4-1712fb0c797c"
      },
      "execution_count": 5,
      "outputs": [
        {
          "output_type": "stream",
          "name": "stdout",
          "text": [
            "Tipe data variabel_int: <class 'int'>\n",
            "Tipe data variabel_float: <class 'float'>\n",
            "Tipe data variabel_str: <class 'str'>\n",
            "Tipe data variabel_list: <class 'list'>\n"
          ]
        }
      ]
    },
    {
      "cell_type": "code",
      "source": [
        "# Soal nomer 2\n",
        "# a. buat list belanja (beras, minyak dan telur)\n",
        "belanja = [\"beras\", \"minyak\", \"telur\"]\n",
        "\n",
        "# b. kemudian tambahkan item gula dan kopi menggunakan fungsi.\n",
        "belanja.append(\"gula\")\n",
        "belanja.append(\"kopi\")\n",
        "\n",
        "# c. tampilkan semua item dengan perulangan\n",
        "print(\"Daftar Belanja:\")\n",
        "for item in belanja:\n",
        "  print(item)"
      ],
      "metadata": {
        "colab": {
          "base_uri": "https://localhost:8080/"
        },
        "id": "UBFulNu7ZRi6",
        "outputId": "f1d319d8-0f4e-4171-e263-906a41cef85d"
      },
      "execution_count": 4,
      "outputs": [
        {
          "output_type": "stream",
          "name": "stdout",
          "text": [
            "Daftar Belanja:\n",
            "beras\n",
            "minyak\n",
            "telur\n",
            "gula\n",
            "kopi\n"
          ]
        }
      ]
    },
    {
      "cell_type": "code",
      "source": [
        "# Soal nomer 3\n",
        "# a. buat dictionary harga belanjaan:\n",
        "harga_belanjaan = {\n",
        "    \"beras\": 12000,\n",
        "    \"minyak\": 17000,\n",
        "    \"telur\": 24000,\n",
        "    \"gula\": 15000,\n",
        "    \"kopi\": 20000\n",
        "}\n",
        "\n",
        "# b. hitung dan tampilkan total harga semua belanjaan\n",
        "total_harga = sum(harga_belanjaan.values())\n",
        "print(f\"Total harga belanjaan: {total_harga}\")"
      ],
      "metadata": {
        "colab": {
          "base_uri": "https://localhost:8080/"
        },
        "id": "6AjwW4AbZkw7",
        "outputId": "82f06d76-53fd-4198-b0aa-26fa61d68a20"
      },
      "execution_count": 3,
      "outputs": [
        {
          "output_type": "stream",
          "name": "stdout",
          "text": [
            "Total harga belanjaan: 88000\n"
          ]
        }
      ]
    },
    {
      "cell_type": "code",
      "source": [
        "# Soal nomer 4\n",
        "# Buat fungsi untuk menghitung luas persegi panjang yang mengembalikan nilai luas dan keliling dari persegi panjang\n",
        "def luas_keliling_persegi_panjang(panjang, lebar):\n",
        "  \"\"\"\n",
        "  Menghitung luas dan keliling persegi panjang.\n",
        "\n",
        "  Args:\n",
        "    panjang: Panjang persegi panjang.\n",
        "    lebar: Lebar persegi panjang.\n",
        "\n",
        "  Returns:\n",
        "    Tuple berisi luas dan keliling persegi panjang.\n",
        "  \"\"\"\n",
        "  luas = panjang * lebar\n",
        "  keliling = 2 * (panjang + lebar)\n",
        "  return luas, keliling"
      ],
      "metadata": {
        "id": "czH1seWzZzuZ"
      },
      "execution_count": 2,
      "outputs": []
    },
    {
      "cell_type": "code",
      "source": [
        "# Soal nomer 5\n",
        "# a. minta pengguna memasukkan usia\n",
        "usia = int(input(\"Masukkan usia Anda: \"))\n",
        "\n",
        "# tampilkan kategori usia\n",
        "if 0 <= usia <= 13:\n",
        "  print(\"anak\")\n",
        "elif 14 <= usia <= 24:\n",
        "  print(\"remaja\")\n",
        "elif 25 <= usia <= 49:\n",
        "  print(\"dewasa\")\n",
        "else:\n",
        "  print(\"lansia\")"
      ],
      "metadata": {
        "id": "79FTkcgiafp8",
        "colab": {
          "base_uri": "https://localhost:8080/"
        },
        "outputId": "0e4914c8-83fa-4650-ae41-7d179e33d17f"
      },
      "execution_count": 1,
      "outputs": [
        {
          "output_type": "stream",
          "name": "stdout",
          "text": [
            "Masukkan usia Anda: 16\n",
            "remaja\n"
          ]
        }
      ]
    }
  ]
}